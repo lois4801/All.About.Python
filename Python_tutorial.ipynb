{
  "nbformat": 4,
  "nbformat_minor": 0,
  "metadata": {
    "colab": {
      "name": "Python tutorial.ipynb",
      "provenance": [],
      "collapsed_sections": []
    },
    "kernelspec": {
      "name": "python3",
      "display_name": "Python 3"
    },
    "language_info": {
      "name": "python"
    }
  },
  "cells": [
    {
      "cell_type": "markdown",
      "source": [
        ""
      ],
      "metadata": {
        "id": "b35mjVUOZYVE"
      }
    },
    {
      "cell_type": "code",
      "execution_count": null,
      "metadata": {
        "colab": {
          "base_uri": "https://localhost:8080/"
        },
        "id": "AbyVPSeuCWEA",
        "outputId": "6248793a-d1c6-4013-eda2-c0c8eb490c91"
      },
      "outputs": [
        {
          "output_type": "stream",
          "name": "stdout",
          "text": [
            "num1+num2= 30\n",
            "num1-num2= -10\n",
            "num1*num2= 200\n",
            "Exponential= 125\n",
            "20%3_ remainder of the division left operand by the right= 2\n",
            "flow division= 3\n",
            "flow division= 1.0\n"
          ]
        }
      ],
      "source": [
        "#Arithmetic Operators\n",
        "num1=10\n",
        "num2=20\n",
        "print ('num1+num2=', num1+num2 )\n",
        "print ('num1-num2=', num1-num2 )\n",
        "print ('num1*num2=', num1*num2 )\n",
        "print('Exponential=', 5**3)\n",
        "print('20%3_ remainder of the division left operand by the right=', 20%3)\n",
        "print ('flow division=', 22//7)\n",
        "print ('flow division=', 3.8//2)\n"
      ]
    },
    {
      "cell_type": "code",
      "source": [
        "#assignment operator\n",
        "num3=num1+num2\n",
        "print(num3)\n",
        "num3+=num2\n",
        "print(num3)"
      ],
      "metadata": {
        "colab": {
          "base_uri": "https://localhost:8080/"
        },
        "id": "5JAgB7C7Dfs7",
        "outputId": "dc825063-f722-47bd-b68d-eca2e326f05c"
      },
      "execution_count": null,
      "outputs": [
        {
          "output_type": "stream",
          "name": "stdout",
          "text": [
            "30\n",
            "50\n"
          ]
        }
      ]
    },
    {
      "cell_type": "code",
      "source": [
        "#comparison operator\n",
        "print('is num3>num2?',  num3>num2)\n",
        "print('is num3<num2?',  num3<num2)\n",
        "print('is num1 != num2?',  num1>num2)"
      ],
      "metadata": {
        "colab": {
          "base_uri": "https://localhost:8080/"
        },
        "id": "Ovfl2HATFhCL",
        "outputId": "7fd512cb-efa0-4463-8153-73daf74253a0"
      },
      "execution_count": null,
      "outputs": [
        {
          "output_type": "stream",
          "name": "stdout",
          "text": [
            "is num3>num2? True\n",
            "is num3<num2? False\n",
            "is num1 != num2? False\n"
          ]
        }
      ]
    },
    {
      "cell_type": "code",
      "source": [
        "#Logical Operator\n",
        "x=True #equivalent to 1\n",
        "y=False #equivalent to 0\n",
        "\n",
        "print('X and y=', x and y) # it will give the last value\n",
        "print (\"x or y=\", x or y) #it will give the first value\n",
        "print('not of x=', not x)"
      ],
      "metadata": {
        "colab": {
          "base_uri": "https://localhost:8080/"
        },
        "id": "gKZy6v3dGdy3",
        "outputId": "01209ffd-ccc4-4e17-b608-6bcce826e434"
      },
      "execution_count": null,
      "outputs": [
        {
          "output_type": "stream",
          "name": "stdout",
          "text": [
            "X and y= False\n",
            "x or y= True\n",
            "not of x= False\n"
          ]
        }
      ]
    },
    {
      "cell_type": "code",
      "source": [
        "a=5\n",
        "b=3\n",
        "\n",
        "print (b and a)\n",
        "print (a and b)\n",
        "\n",
        "print(a or b)\n",
        "print(b or a)\n",
        "\n",
        "\n",
        "\n",
        "today= 'wednesday'\n",
        "yoga_day='thursday'\n",
        "\n",
        "print(today is yoga_day)\n",
        "print(today is not yoga_day)\n"
      ],
      "metadata": {
        "colab": {
          "base_uri": "https://localhost:8080/"
        },
        "id": "nOb81c41CNQF",
        "outputId": "f12b6f89-02fc-4be5-b7d8-e8a8f38c02bf"
      },
      "execution_count": null,
      "outputs": [
        {
          "output_type": "stream",
          "name": "stdout",
          "text": [
            "5\n",
            "3\n",
            "5\n",
            "3\n",
            "False\n",
            "True\n"
          ]
        }
      ]
    },
    {
      "cell_type": "code",
      "source": [
        "#Bitwise Operators\n",
        "num4=6 #110\n",
        "num5=2 #010\n",
        "\n",
        "#a|b- perform OR operation on each bit of the number\n",
        "print('bitwise and=', num4 & num5)\n",
        "\n",
        "#a&b- perform AND operation on each bit of the number\n",
        "print('bitwise or=', num4|num5)\n",
        "\n",
        "#a^b= perform XOR operation on each bit of the number\n",
        "print('bitwise xor=', num4 ^ num5)\n",
        "\n"
      ],
      "metadata": {
        "colab": {
          "base_uri": "https://localhost:8080/"
        },
        "id": "LsLCcOK4HODj",
        "outputId": "f8727ae0-a310-4537-d4d4-bbb102a300e7"
      },
      "execution_count": null,
      "outputs": [
        {
          "output_type": "stream",
          "name": "stdout",
          "text": [
            "bitwise and= 2\n",
            "bitwise or= 6\n",
            "bitwise xor= 4\n"
          ]
        }
      ]
    },
    {
      "cell_type": "code",
      "source": [
        "#Membership list\n",
        "#IN- true if it finds elements in the specified sequence\n",
        "#NOT IN- true if it does not find elements in the specified sequence\n",
        "x=[1,2,3,4,5]\n",
        "\n",
        "print(3 in x)\n",
        "print(3 not in x)\n",
        "\n",
        "\n",
        "\n",
        "#membership operators\n",
        "\n",
        "list=(1,2,3.15, 'edureka')\n",
        "print('edureka'in list)\n",
        "print('edureka' not in list)\n"
      ],
      "metadata": {
        "colab": {
          "base_uri": "https://localhost:8080/"
        },
        "id": "cgTjJ8jBJ6fa",
        "outputId": "87b46b7c-e1c9-4fab-dc49-811569bac14e"
      },
      "execution_count": null,
      "outputs": [
        {
          "output_type": "stream",
          "name": "stdout",
          "text": [
            "True\n",
            "False\n",
            "True\n",
            "False\n"
          ]
        }
      ]
    },
    {
      "cell_type": "code",
      "source": [
        "string1='python'\n",
        "string2='tutorial'\n",
        "string3='machine'\n",
        "\n",
        "#concatenation is like   \n",
        "#'python' + 'tutorial '= 'python tutorial\n",
        "print(string1+string2)\n",
        "\n",
        "#Repetition is like  \n",
        "#'edureka'*2= 'edurekaedureka\n",
        "print(string2*3)\n",
        "\n",
        "#slicing is like \n",
        "#string1='edureka   string1[2:7]    'ureka'\n",
        "print (string2[3:6])\n",
        "print(string2[:3])\n",
        "print(string2[:-3])\n",
        "print(string2[3])\n",
        "print(string2[-3])\n",
        "print(string2[2:-3])\n",
        "\n",
        "#indexing\n",
        "#string1=edureka    string1[-1]+string[1]    'ad'\n",
        "\n",
        "\n"
      ],
      "metadata": {
        "colab": {
          "base_uri": "https://localhost:8080/"
        },
        "id": "zLu6dZSfL_Zh",
        "outputId": "c6e96e1a-ae9b-497d-d45a-766c3c80762e"
      },
      "execution_count": null,
      "outputs": [
        {
          "output_type": "stream",
          "name": "stdout",
          "text": [
            "pythontutorial\n",
            "tutorialtutorialtutorial\n",
            "ori\n",
            "tut\n",
            "tutor\n",
            "o\n",
            "i\n",
            "tor\n"
          ]
        }
      ]
    },
    {
      "cell_type": "code",
      "source": [
        "str1='Welcome'\n",
        "str2='To'\n",
        "str3='Machine Learning Program'\n",
        "\n",
        "print(str1)\n",
        "print(str2)\n",
        "print(str3)\n",
        "\n",
        "string='Python'\n",
        "print(string)\n",
        "print(len(string))\n",
        "print(string[1:3])\n",
        "print('t' in string)\n",
        "print('z' in string)\n"
      ],
      "metadata": {
        "colab": {
          "base_uri": "https://localhost:8080/"
        },
        "id": "cFKarVcTFmtJ",
        "outputId": "568fd706-fda2-4a2d-b534-3b03c57c7f47"
      },
      "execution_count": null,
      "outputs": [
        {
          "output_type": "stream",
          "name": "stdout",
          "text": [
            "Welcome\n",
            "To\n",
            "Machine Learning Program\n",
            "Python\n",
            "6\n",
            "yt\n",
            "True\n",
            "False\n"
          ]
        }
      ]
    },
    {
      "cell_type": "code",
      "source": [
        "str='edureka'\n",
        "print(str.capitalize()) #capitalizes first letter of string\n",
        "print(str.count('ka',0,len(str))) # counts how many times string occurs in string\n",
        "s=str.encode('utf-8', 'strict')\n",
        "print(s)"
      ],
      "metadata": {
        "colab": {
          "base_uri": "https://localhost:8080/"
        },
        "id": "2dAJcuawo7HI",
        "outputId": "c3f6f9ed-bec8-4ea6-9b4d-d1afcd32c774"
      },
      "execution_count": null,
      "outputs": [
        {
          "output_type": "stream",
          "name": "stdout",
          "text": [
            "Edureka\n",
            "1\n",
            "b'edureka'\n"
          ]
        }
      ]
    },
    {
      "cell_type": "code",
      "source": [
        "name=\"Annie\"\n",
        "age= 22\n",
        "print(\"My name is %s and my age is %d\"%(name, age))"
      ],
      "metadata": {
        "colab": {
          "base_uri": "https://localhost:8080/"
        },
        "id": "w-Uz1skQ1p_D",
        "outputId": "a95524c2-0263-436f-8fcc-986d251a8ca4"
      },
      "execution_count": null,
      "outputs": [
        {
          "output_type": "stream",
          "name": "stdout",
          "text": [
            "My name is Annie and my age is 22\n"
          ]
        }
      ]
    },
    {
      "cell_type": "code",
      "source": [
        "list=[\"Hadoop\", \"Python\", \"Android\"]\n",
        "print(list[1])\n",
        "print(list[0:2])\n",
        "print(list[-1])\n",
        "print(list[-2])\n",
        "print(list[-3])"
      ],
      "metadata": {
        "colab": {
          "base_uri": "https://localhost:8080/"
        },
        "id": "3NH-4jHoDZsF",
        "outputId": "9899e5d7-12c4-45a8-b244-e2e4b03b2996"
      },
      "execution_count": null,
      "outputs": [
        {
          "output_type": "stream",
          "name": "stdout",
          "text": [
            "Python\n",
            "['Hadoop', 'Python']\n",
            "Android\n",
            "Python\n",
            "Hadoop\n"
          ]
        }
      ]
    },
    {
      "cell_type": "code",
      "source": [
        "list2=[\"Hadoop\", \"Python\", \"Android\"]\n",
        "print(list2+[\"react\",'angular','data science']) # detects the main list and add the other data\n",
        "print(sorted(list2)) #it sorts the list from a to z\n",
        "print(sorted(list2+[\"react\",'angular','data science']))\n",
        "\n",
        "print('\\n',list2[::-1]) # it reverses the list2\n",
        "\n",
        "print(list2*3)\n",
        "\n",
        "list2[1]=\"java\"\n",
        "print(list2)\n",
        "\n",
        "del(list2[2])\n",
        "print(list2)"
      ],
      "metadata": {
        "colab": {
          "base_uri": "https://localhost:8080/"
        },
        "id": "mcMyXi6vSW2N",
        "outputId": "03d18399-1219-4969-dabb-026bb96487f8"
      },
      "execution_count": null,
      "outputs": [
        {
          "output_type": "stream",
          "name": "stdout",
          "text": [
            "['Hadoop', 'Python', 'Android', 'react', 'angular', 'data science']\n",
            "['Android', 'Hadoop', 'Python']\n",
            "['Android', 'Hadoop', 'Python', 'angular', 'data science', 'react']\n",
            "\n",
            " ['Android', 'Python', 'Hadoop']\n",
            "['Hadoop', 'Python', 'Android', 'Hadoop', 'Python', 'Android', 'Hadoop', 'Python', 'Android']\n",
            "['Hadoop', 'java', 'Android']\n",
            "['Hadoop', 'java']\n"
          ]
        }
      ]
    },
    {
      "cell_type": "code",
      "source": [
        "#this is a tupple inside the list\n",
        "list=[(1,2,3), ('python','java','spark','azure')]\n",
        "print (list)\n",
        "print(len(list))\n",
        "print(list[1][0:1]) # in the second index print the first word\n",
        "print(list[1][0:2]) # in the second index print the first word and second word\n",
        "print(list[1][1:2]) # in the second index print the second word"
      ],
      "metadata": {
        "colab": {
          "base_uri": "https://localhost:8080/"
        },
        "id": "0JjtTzH_VB-k",
        "outputId": "79a59636-fc59-4e70-d5d7-dcc92908651e"
      },
      "execution_count": null,
      "outputs": [
        {
          "output_type": "stream",
          "name": "stdout",
          "text": [
            "[(1, 2, 3), ('python', 'java', 'spark', 'azure')]\n",
            "2\n",
            "('python',)\n",
            "('python', 'java')\n",
            "('java',)\n"
          ]
        }
      ]
    },
    {
      "cell_type": "code",
      "source": [
        "list=[1,2,3]\n",
        "list.append(\"machine learning\")\n",
        "print(list)\n",
        "\n",
        "list.extend(['g','h'])\n",
        "print(list)\n",
        "\n",
        "list.insert(1,'Scripting')\n",
        "print(list,'\\n')\n"
      ],
      "metadata": {
        "colab": {
          "base_uri": "https://localhost:8080/"
        },
        "id": "sPVdLj8GSe2k",
        "outputId": "57e75d2f-92f0-42d1-ee34-e85cee5627d0"
      },
      "execution_count": null,
      "outputs": [
        {
          "output_type": "stream",
          "name": "stdout",
          "text": [
            "[1, 2, 3, 'machine learning']\n",
            "[1, 2, 3, 'machine learning', 'g', 'h']\n",
            "[1, 'Scripting', 2, 3, 'machine learning', 'g', 'h'] \n",
            "\n"
          ]
        }
      ]
    },
    {
      "cell_type": "code",
      "source": [
        "list=[1,2,3,4,5,'a','b','c']\n",
        "print(list.pop(3))# pop will give you the item that it removed\n",
        "print(list[3]) #the 3rd index which is number 4 has been remove and thats why the new index 3rd index is now 5\n",
        "print(list,'\\n') #printing the new list withou the number 4\n",
        "\n",
        "list.remove('a') #you indicate which specific number you want to remove. \n",
        "                  #remove is more or less used when you are done with that item \n",
        "                  #or if you dont want it to be in the list anymore\n",
        "print(list)"
      ],
      "metadata": {
        "colab": {
          "base_uri": "https://localhost:8080/"
        },
        "id": "mbDXL_pRSiGc",
        "outputId": "85ca6523-6a46-447a-9d76-8099cc63e15a"
      },
      "execution_count": null,
      "outputs": [
        {
          "output_type": "stream",
          "name": "stdout",
          "text": [
            "4\n",
            "5\n",
            "[1, 2, 3, 5, 'a', 'b', 'c'] \n",
            "\n",
            "[1, 2, 3, 5, 'b', 'c']\n"
          ]
        }
      ]
    },
    {
      "cell_type": "code",
      "source": [
        ""
      ],
      "metadata": {
        "id": "Tr5B2Z-vXD1P"
      },
      "execution_count": null,
      "outputs": []
    },
    {
      "cell_type": "code",
      "source": [
        "list3=[1,2,5,'python','hadoop']\n",
        "print(type(list3)) #returns the type of data\n",
        "\n",
        "print([x**2 for x in [1,2,3,4,5]]) # loop can be use in print statement for showing square of lists"
      ],
      "metadata": {
        "colab": {
          "base_uri": "https://localhost:8080/"
        },
        "id": "zh6x0YwTD-pd",
        "outputId": "e4c18f67-fa14-4537-9b89-a238cada49a0"
      },
      "execution_count": null,
      "outputs": [
        {
          "output_type": "stream",
          "name": "stdout",
          "text": [
            "<class 'list'>\n",
            "[1, 4, 9, 16, 25]\n"
          ]
        }
      ]
    },
    {
      "cell_type": "code",
      "source": [
        ""
      ],
      "metadata": {
        "id": "KE2E3YTRS1Ip"
      },
      "execution_count": null,
      "outputs": []
    },
    {
      "cell_type": "code",
      "source": [
        "#type of specific method\n",
        "print(string1.count('P,0,5'))\n",
        "print(string1.find('on')) \n",
        "print(string1.isalpha))"
      ],
      "metadata": {
        "colab": {
          "base_uri": "https://localhost:8080/"
        },
        "id": "JClG4l6XREPH",
        "outputId": "67460e29-a657-42e0-b39a-a51aa8f6fb6b"
      },
      "execution_count": null,
      "outputs": [
        {
          "output_type": "stream",
          "name": "stdout",
          "text": [
            "0\n",
            "4\n"
          ]
        }
      ]
    },
    {
      "cell_type": "code",
      "source": [
        "#tuple examples\n",
        "#note all tuples are defined using braces during the first data and\n",
        "# defined square braces when printing a specific row or column or range\n",
        "# you cannot update a tuple if tuple is already been defined\n",
        "\n",
        "my_tup=('Neel','Raj','Sandeep','Divya')\n",
        "\n",
        "#concatenation\n",
        "print(my_tup+('jay','sanjay')) #note that this only adds the names during printing and not on the original tuple\"\"\"\n",
        "\n",
        "#repitition\n",
        "print(my_tup*3)\n",
        "\n",
        "#slicing\n",
        "#make sure you are using square braces instead of parenthesis\n",
        "print(my_tup[2:5]) #this only prints the third variable until the maximum number in the tuple\n",
        "\n",
        "#indexing\n",
        "print(my_tup[0])"
      ],
      "metadata": {
        "colab": {
          "base_uri": "https://localhost:8080/"
        },
        "id": "QBJPFHSCbwml",
        "outputId": "5b931def-2218-4b22-f021-ba49c8d96bc4"
      },
      "execution_count": null,
      "outputs": [
        {
          "output_type": "stream",
          "name": "stdout",
          "text": [
            "('Neel', 'Raj', 'Sandeep', 'Divya', 'jay', 'sanjay')\n",
            "('Neel', 'Raj', 'Sandeep', 'Divya', 'Neel', 'Raj', 'Sandeep', 'Divya', 'Neel', 'Raj', 'Sandeep', 'Divya')\n",
            "('Sandeep', 'Divya')\n",
            "Neel\n"
          ]
        }
      ]
    },
    {
      "cell_type": "code",
      "source": [
        "tup=([1,2,3], [4,5,6], [7,9,10])\n",
        "print(tup)\n",
        "print(len(tup))\n",
        "print(tup[0][0:2])"
      ],
      "metadata": {
        "colab": {
          "base_uri": "https://localhost:8080/"
        },
        "id": "huFwotQ8XT1C",
        "outputId": "9718c1cb-c027-4a1a-d4b1-4282036997cd"
      },
      "execution_count": null,
      "outputs": [
        {
          "output_type": "stream",
          "name": "stdout",
          "text": [
            "([1, 2, 3], [4, 5, 6], [7, 9, 10])\n",
            "3\n",
            "[1, 2]\n"
          ]
        }
      ]
    },
    {
      "cell_type": "code",
      "source": [
        "#example of tuple that cannot be change\n",
        "\n",
        "list=[1,2,'python','android']\n",
        "print(list)\n",
        "\n",
        "list[2]='Data Science'\n",
        "print(list)\n",
        "\n",
        "tup=(1,2,3,'Data Science')\n",
        "print(tup)\n",
        "\n",
        "tup[1]='Python' #You cannot redefine the value in the second index which value is 2\n",
        "print(tup)"
      ],
      "metadata": {
        "colab": {
          "base_uri": "https://localhost:8080/",
          "height": 277
        },
        "id": "cEc_GdkNYo9W",
        "outputId": "8b09be6a-56b4-4bad-e830-2c1c9a375602"
      },
      "execution_count": 1,
      "outputs": [
        {
          "output_type": "stream",
          "name": "stdout",
          "text": [
            "[1, 2, 'python', 'android']\n",
            "[1, 2, 'Data Science', 'android']\n",
            "(1, 2, 3, 'Data Science')\n"
          ]
        },
        {
          "output_type": "error",
          "ename": "TypeError",
          "evalue": "ignored",
          "traceback": [
            "\u001b[0;31m---------------------------------------------------------------------------\u001b[0m",
            "\u001b[0;31mTypeError\u001b[0m                                 Traceback (most recent call last)",
            "\u001b[0;32m<ipython-input-1-f6dd6026b9fe>\u001b[0m in \u001b[0;36m<module>\u001b[0;34m()\u001b[0m\n\u001b[1;32m     10\u001b[0m \u001b[0mprint\u001b[0m\u001b[0;34m(\u001b[0m\u001b[0mtup\u001b[0m\u001b[0;34m)\u001b[0m\u001b[0;34m\u001b[0m\u001b[0;34m\u001b[0m\u001b[0m\n\u001b[1;32m     11\u001b[0m \u001b[0;34m\u001b[0m\u001b[0m\n\u001b[0;32m---> 12\u001b[0;31m \u001b[0mtup\u001b[0m\u001b[0;34m[\u001b[0m\u001b[0;36m1\u001b[0m\u001b[0;34m]\u001b[0m\u001b[0;34m=\u001b[0m\u001b[0;34m'Python'\u001b[0m \u001b[0;31m#You cannot redefine the value in the second index which value is 2\u001b[0m\u001b[0;34m\u001b[0m\u001b[0;34m\u001b[0m\u001b[0m\n\u001b[0m\u001b[1;32m     13\u001b[0m \u001b[0mprint\u001b[0m\u001b[0;34m(\u001b[0m\u001b[0mtup\u001b[0m\u001b[0;34m)\u001b[0m\u001b[0;34m\u001b[0m\u001b[0;34m\u001b[0m\u001b[0m\n",
            "\u001b[0;31mTypeError\u001b[0m: 'tuple' object does not support item assignment"
          ]
        }
      ]
    },
    {
      "cell_type": "code",
      "source": [
        "#slicing a tupple\n",
        "tup= ([1, 2, 3], [4, 5, 6], [7, 9, 10])\n",
        "print(tup)\n",
        "print(len(tup))\n",
        "print(tup[0][0:2]) #slicing"
      ],
      "metadata": {
        "colab": {
          "base_uri": "https://localhost:8080/"
        },
        "id": "4FKgu-nEZkT1",
        "outputId": "1b05745e-3f07-4c0f-f88a-d9e143a454f0"
      },
      "execution_count": null,
      "outputs": [
        {
          "output_type": "stream",
          "name": "stdout",
          "text": [
            "([1, 2, 3], [4, 5, 6], [7, 9, 10])\n",
            "3\n",
            "[1, 2]\n"
          ]
        }
      ]
    },
    {
      "cell_type": "code",
      "source": [
        "#updating the list in tupple and not the tuple itself\n",
        "# note the tuple element cannot be change but the what is inside the tuple element is mutable or can be changed\n",
        "tup=([1, 2, 3], [4, 5, 6], [7, 9, 10])\n",
        "print(tup)\n",
        "\n",
        "print(len(tup))\n",
        "print(tup[0][1])\n",
        "\n",
        "#updating tuple \n",
        "tup[0][1]=90  # as we are using lists inside a tuple, the overall tuple becomes mutable\n",
        "print(tup)\n",
        "\n",
        "#deleting element in tuple\n",
        "del(tup[1][2])\n",
        "print(tup)"
      ],
      "metadata": {
        "colab": {
          "base_uri": "https://localhost:8080/"
        },
        "id": "MrCoDO_Kam_5",
        "outputId": "373304ba-3e2f-48dc-ccef-2d1f5356ce98"
      },
      "execution_count": null,
      "outputs": [
        {
          "output_type": "stream",
          "name": "stdout",
          "text": [
            "([1, 2, 3], [4, 5, 6], [7, 9, 10])\n",
            "3\n",
            "2\n",
            "([1, 90, 3], [4, 5, 6], [7, 9, 10])\n",
            "([1, 90, 3], [4, 5], [7, 9, 10])\n"
          ]
        }
      ]
    },
    {
      "cell_type": "code",
      "source": [
        "#converting TUPLE into LIST, updating contents of list and agin converting LIST into TUPLE\n",
        "\n",
        "tuple1=(1,2,3,5,7,'a','b')\n",
        "1st=list(tuple1)\n",
        "print(1st)\n",
        "\n",
        "1st[1]='python'\n",
        "print(lst)\n",
        "\n",
        "tuple2=tupl(st)\n",
        "print(tuple2)\n",
        "\n",
        "\n"
      ],
      "metadata": {
        "colab": {
          "base_uri": "https://localhost:8080/",
          "height": 259
        },
        "id": "OR8HQrIytOFZ",
        "outputId": "5f435fe3-0500-4696-8777-d12bb2d7a956"
      },
      "execution_count": null,
      "outputs": [
        {
          "output_type": "stream",
          "name": "stdout",
          "text": [
            "(1, 2, 3, 5, 7, 'a', 'b')\n"
          ]
        },
        {
          "output_type": "error",
          "ename": "TypeError",
          "evalue": "ignored",
          "traceback": [
            "\u001b[0;31m---------------------------------------------------------------------------\u001b[0m",
            "\u001b[0;31mTypeError\u001b[0m                                 Traceback (most recent call last)",
            "\u001b[0;32m<ipython-input-265-df3947beb43b>\u001b[0m in \u001b[0;36m<module>\u001b[0;34m()\u001b[0m\n\u001b[1;32m      4\u001b[0m \u001b[0mprint\u001b[0m\u001b[0;34m(\u001b[0m\u001b[0mtuple1\u001b[0m\u001b[0;34m)\u001b[0m\u001b[0;34m\u001b[0m\u001b[0;34m\u001b[0m\u001b[0m\n\u001b[1;32m      5\u001b[0m \u001b[0;34m\u001b[0m\u001b[0m\n\u001b[0;32m----> 6\u001b[0;31m \u001b[0mtuple1\u001b[0m\u001b[0;34m[\u001b[0m\u001b[0;36m3\u001b[0m\u001b[0;34m]\u001b[0m\u001b[0;34m=\u001b[0m\u001b[0;34m'python'\u001b[0m\u001b[0;34m\u001b[0m\u001b[0;34m\u001b[0m\u001b[0m\n\u001b[0m\u001b[1;32m      7\u001b[0m \u001b[0mprint\u001b[0m\u001b[0;34m(\u001b[0m\u001b[0mtuple1\u001b[0m\u001b[0;34m)\u001b[0m\u001b[0;34m\u001b[0m\u001b[0;34m\u001b[0m\u001b[0m\n\u001b[1;32m      8\u001b[0m \u001b[0;34m\u001b[0m\u001b[0m\n",
            "\u001b[0;31mTypeError\u001b[0m: 'tuple' object does not support item assignment"
          ]
        }
      ]
    },
    {
      "cell_type": "code",
      "source": [
        "tup= ([1, 2, 3], [4, 5, 6], [7, 9, 10])\n",
        "print(tup)\n",
        "for item in tup:\n",
        "  print(tuple(item))\n",
        "  print(item)"
      ],
      "metadata": {
        "colab": {
          "base_uri": "https://localhost:8080/"
        },
        "id": "ItP3FssUAnVH",
        "outputId": "5917dfd8-8cb1-4233-e552-4b45429aedfb"
      },
      "execution_count": null,
      "outputs": [
        {
          "output_type": "stream",
          "name": "stdout",
          "text": [
            "([1, 2, 3], [4, 5, 6], [7, 9, 10])\n",
            "(1, 2, 3)\n",
            "[1, 2, 3]\n",
            "(4, 5, 6)\n",
            "[4, 5, 6]\n",
            "(7, 9, 10)\n",
            "[7, 9, 10]\n"
          ]
        }
      ]
    },
    {
      "cell_type": "code",
      "source": [
        "#list examples\n",
        "#note all tuples and list are defined using square braces\n",
        "\n",
        "my_list=['green','red','blue','yellow','pink']\n",
        "\n",
        "#append\n",
        "my_list.append('grey')\n",
        "print(my_list)\n",
        "\n",
        "#extend\n",
        "my_list.extend(['violet','black'])\n",
        "print(my_list)\n"
      ],
      "metadata": {
        "colab": {
          "base_uri": "https://localhost:8080/"
        },
        "id": "72fPiydGfvp7",
        "outputId": "453859b5-3a48-46c6-bca8-00f12103d402"
      },
      "execution_count": null,
      "outputs": [
        {
          "output_type": "stream",
          "name": "stdout",
          "text": [
            "['green', 'red', 'blue', 'yellow', 'pink', 'grey']\n",
            "['green', 'red', 'blue', 'yellow', 'pink', 'grey', 'violet', 'black']\n"
          ]
        }
      ]
    },
    {
      "cell_type": "code",
      "source": [
        "#dictionary methods\n",
        "#be sure to use curly braces\n",
        "\n",
        "my_dicto={1:'green', 2:'blue', 3:'red', 2:'grey',4:'violet'} # if repeatedly defined then it will take the latest value\n",
        "print(my_dicto)\n",
        "\n",
        "print(my_dicto[3])\n",
        "print( len(my_dicto)) #how many key values is present in your dictionary\n",
        "print(my_dicto.keys())\n",
        "print(my_dicto.values())\n",
        "\n",
        "my_dicto.update({5:'white'})\n",
        "print(my_dicto)\n",
        "\n"
      ],
      "metadata": {
        "id": "ggE8kps9qXfG"
      },
      "execution_count": null,
      "outputs": []
    },
    {
      "cell_type": "code",
      "source": [
        "#dictionary methods\n",
        "#be sure to use curly braces\n",
        "\n",
        "my_set={2,4,2,5,1,10,20,1,5} \n",
        "#there will be syntax error if two commas are placed\n",
        "print(my_set) # note that duplicated numbers are not printed\n",
        "\n",
        "\n",
        "s1={1,2,6,8,9} # when you add letters inside the set, it will show error after printing \n",
        "s2={2,4,9}\n",
        "\n",
        "print('union=',s1|s2)\n",
        "print('Intersection=', s1&s2) #be sure that equal sign are inside the apostrophe to avoid error\n",
        "print('Difference=', s1-s2)"
      ],
      "metadata": {
        "id": "4YcgX8o0ube8"
      },
      "execution_count": null,
      "outputs": []
    },
    {
      "cell_type": "code",
      "source": [
        "#flow control methods or conditional statements\n",
        "\n",
        "marks=75\n",
        "\n",
        "if (marks>90) and (marks<=99):\n",
        "  print(\"Grade A+\")            #always make sure you indent the print everytime you do if , elif , and else\n",
        "                               #otherwise it will show error\n",
        "\n",
        "elif (marks>80) and (marks<=90):\n",
        "  print('Grade A')\n",
        "\n",
        "elif (marks>60) and (marks<=80):\n",
        "  print('Grade B')\n",
        "\n",
        "elif (marks>40) and (marks<=60):\n",
        "  print(\"Grade C\")\n",
        "\n",
        "else:\n",
        "  print(\"Grade D\")\n",
        "\n"
      ],
      "metadata": {
        "colab": {
          "base_uri": "https://localhost:8080/"
        },
        "id": "Z-viD6rhxo36",
        "outputId": "7fdc9a7c-62f3-43ff-efbe-fe48f1b02289"
      },
      "execution_count": null,
      "outputs": [
        {
          "output_type": "stream",
          "name": "stdout",
          "text": [
            "Grade B\n"
          ]
        }
      ]
    },
    {
      "cell_type": "code",
      "source": [
        "#flow control methods or conditional statements\n",
        "#if else statement\n",
        "\n",
        "a=int(input('enter a number='))\n",
        "if (a<=10):\n",
        "  print('less than 10')\n",
        "\n",
        "if (10<=a<=25):\n",
        "  print('In between 10 and 25')\n",
        "\n",
        "else:\n",
        "  print(\"Greater than 25\")\n",
        "\n"
      ],
      "metadata": {
        "colab": {
          "base_uri": "https://localhost:8080/"
        },
        "id": "1wQ88K0IQIGo",
        "outputId": "aadaa8eb-2f6c-419d-88dc-dd9d97926a6a"
      },
      "execution_count": null,
      "outputs": [
        {
          "output_type": "stream",
          "name": "stdout",
          "text": [
            "enter a number=10\n",
            "less than 10\n",
            "In between 10 and 25\n"
          ]
        }
      ]
    },
    {
      "cell_type": "code",
      "source": [
        "#while loop\n",
        "\n",
        "count=0\n",
        "\n",
        "while(count<5):  \n",
        "  count=count+1\n",
        "  print(count)\n",
        "\n",
        "print(\"good bye!\")\n",
        "\n",
        "rank=5\n",
        "while(rank!=12):\n",
        "  rank+=1\n",
        "  print('rank is=',rank)\n",
        "  \n",
        "\n"
      ],
      "metadata": {
        "colab": {
          "base_uri": "https://localhost:8080/"
        },
        "id": "TeGjLgUQRJTs",
        "outputId": "2d085dee-66b4-41da-f98f-ebfbb121d322"
      },
      "execution_count": null,
      "outputs": [
        {
          "output_type": "stream",
          "name": "stdout",
          "text": [
            "1\n",
            "2\n",
            "3\n",
            "4\n",
            "5\n",
            "good bye!\n",
            "rank is= 6\n",
            "rank is= 7\n",
            "rank is= 8\n",
            "rank is= 9\n",
            "rank is= 10\n",
            "rank is= 11\n",
            "rank is= 12\n"
          ]
        }
      ]
    },
    {
      "cell_type": "code",
      "source": [
        "a=int(input('Guess which number is the winning number, from 1 to 20='))\n",
        "\n",
        "if (a<=10):\n",
        "  print('Number is too small')\n",
        "\n",
        "elif(a==15):\n",
        "  print('Number is too large')\n",
        "\n",
        "elif(a==13):\n",
        "  print('Congratulations, You made it')\n",
        "\n",
        "else:\n",
        "  print('try again')\n",
        "\n",
        "\n"
      ],
      "metadata": {
        "colab": {
          "base_uri": "https://localhost:8080/"
        },
        "id": "OVwqnPEiR9JM",
        "outputId": "50063398-64ee-4581-b707-e721e786f96b"
      },
      "execution_count": null,
      "outputs": [
        {
          "output_type": "stream",
          "name": "stdout",
          "text": [
            "Guess which number is the winning number, from 1 to 20=13\n",
            "Congratulations, You made it\n"
          ]
        }
      ]
    },
    {
      "cell_type": "code",
      "source": [
        "# Nested Loops\n",
        "# it means a loop inside a loop. It can be a FOR LOOP inside a WHILE LOOP and vice versa.\n",
        "#it can also be a WHILE LOOP inside a WHILE LOOP or FOR LOOP inside a FOR LOOP\n",
        "\n",
        "count=1\n",
        "for i in range (10):\n",
        "  print(str(i)*i)\n",
        "\n",
        "  for j in range (0,i):\n",
        "    count=count+1\n"
      ],
      "metadata": {
        "colab": {
          "base_uri": "https://localhost:8080/"
        },
        "id": "4vMmW4iAUHPO",
        "outputId": "f5a60d9d-8cb3-4dbc-e18a-1831a85f089b"
      },
      "execution_count": null,
      "outputs": [
        {
          "output_type": "stream",
          "name": "stdout",
          "text": [
            "\n",
            "1\n",
            "22\n",
            "333\n",
            "4444\n",
            "55555\n",
            "666666\n",
            "7777777\n",
            "88888888\n",
            "999999999\n"
          ]
        }
      ]
    },
    {
      "cell_type": "code",
      "source": [
        "#Loop statements is use when you have to do repeat actions\n",
        "\n",
        "#while-> repeat things until the loop condition is true\n",
        "#    -> to be use when you dont know how many loops you have to do \n",
        "\n",
        "#for-> repeat things till the given number of times\n",
        "#    -> to be use when you know how many loops you have to do \n",
        "\"-----------------------------------------------------------------\"\n",
        "#problem statement\n",
        "#store a variable if sum is greater than zero, so you need to check the value first if it is equal to zero\n",
        "\n",
        "w1=int(input('Enter a value of n=')) \n",
        "#when you are taking an input to the user then it is considered as a string which is int()\n",
        "\n",
        "if (w1<=0):\n",
        "  print(\"enter a valid value\")\n",
        "\n",
        "else:\n",
        "  sum=0\n",
        "\n",
        "while(w1>0):\n",
        "  sum+=w1 # adds the old and new value\n",
        "  w1-=1 #increment the value of w1 by 1 and repeat the loop\n",
        "\n",
        "print(sum)\n",
        "\n"
      ],
      "metadata": {
        "colab": {
          "base_uri": "https://localhost:8080/"
        },
        "id": "WFPtDaFn4_Qz",
        "outputId": "02179c7d-553e-4796-d57a-c438d37f2993"
      },
      "execution_count": null,
      "outputs": [
        {
          "output_type": "stream",
          "name": "stdout",
          "text": [
            "Enter a value of n=2\n",
            "3\n"
          ]
        }
      ]
    },
    {
      "cell_type": "code",
      "source": [
        "#For loop\n",
        "#Iterating sequence could be a list, tuple, range of numbers\n",
        "#It automatically increments by 1 every time it satisfies the first\n",
        "\n",
        "for quant in range(10,0,-1): # starts at 10 and ends to 0 , increments 1 everytime\n",
        "  \n",
        "  if quant>1:\n",
        "    print(quant,\"Dragon on the sky,\", quant,\"Dragons On the Loose\")\n",
        "\n",
        "    if quant>2:\n",
        "      suffix= str(quant)+\"Dragons on the sky_kill it out\"\n",
        "      #this is storing your curent  value then concatenating a statement\n",
        "\n",
        "    else:\n",
        "      suffix='1 Dragon on the loose'   \n",
        "\n",
        "  elif quant==1:\n",
        "    print(\"1 Dragon on the wall, Kill the last one\")\n",
        "    suffix=\"no more dragon on the sky\"\n",
        "\n",
        "print(\"take one down and rejoice\", suffix)\n",
        "print(\"---\")\n"
      ],
      "metadata": {
        "colab": {
          "base_uri": "https://localhost:8080/"
        },
        "id": "xDNsU8Lp-ubc",
        "outputId": "7bf6a0a0-13c6-4000-a42e-1d2d7df90fce"
      },
      "execution_count": null,
      "outputs": [
        {
          "output_type": "stream",
          "name": "stdout",
          "text": [
            "10 Dragon on the sky, 10 Dragons On the Loose\n",
            "9 Dragon on the sky, 9 Dragons On the Loose\n",
            "8 Dragon on the sky, 8 Dragons On the Loose\n",
            "7 Dragon on the sky, 7 Dragons On the Loose\n",
            "6 Dragon on the sky, 6 Dragons On the Loose\n",
            "5 Dragon on the sky, 5 Dragons On the Loose\n",
            "4 Dragon on the sky, 4 Dragons On the Loose\n",
            "3 Dragon on the sky, 3 Dragons On the Loose\n",
            "2 Dragon on the sky, 2 Dragons On the Loose\n",
            "1 Dragon on the wall, Kill the last one\n",
            "take one down and rejoice no more dragon on the sky\n",
            "---\n"
          ]
        }
      ]
    },
    {
      "cell_type": "code",
      "source": [
        "#BREAK LOOP\n",
        "\n",
        "count=0\n",
        "while True:  #be sure to use capital letter when using True or False \n",
        "  print(count)\n",
        "  count+=1 # it continously incrementing by 1\n",
        "  if(count>10):\n",
        "    break"
      ],
      "metadata": {
        "id": "p3rvD_l7jpsg"
      },
      "execution_count": null,
      "outputs": []
    },
    {
      "cell_type": "code",
      "source": [
        "#continue loop\n",
        "#The factors of 10 are:\n",
        "# 1  Odd\n",
        "# 2  Even\n",
        "# 5  Odd\n",
        "# 10  Even\n",
        "for x in range(20):\n",
        "  if (x%2)==0:# it takes out all divisible by that number and equivalent to zero and continue\n",
        "    continue  \n",
        "  print(x) #otherwise it prints\n",
        "\n",
        "  "
      ],
      "metadata": {
        "colab": {
          "base_uri": "https://localhost:8080/"
        },
        "id": "RMS4YNZCkwhj",
        "outputId": "41f9eb2b-9ed7-475f-9a30-a7c4b4acf4aa"
      },
      "execution_count": null,
      "outputs": [
        {
          "output_type": "stream",
          "name": "stdout",
          "text": [
            "1\n",
            "2\n",
            "3\n",
            "4\n",
            "6\n",
            "7\n",
            "8\n",
            "9\n",
            "10\n"
          ]
        }
      ]
    },
    {
      "cell_type": "code",
      "source": [
        "for x in range(1,11):\n",
        "  if (x==5):\n",
        "    continue  \n",
        "  print(x) #this will skip the 5"
      ],
      "metadata": {
        "colab": {
          "base_uri": "https://localhost:8080/"
        },
        "id": "Ck9JYQCshKJY",
        "outputId": "38983cf7-d3d0-44b2-97e5-96344af1a63f"
      },
      "execution_count": null,
      "outputs": [
        {
          "output_type": "stream",
          "name": "stdout",
          "text": [
            "1\n",
            "2\n",
            "3\n",
            "4\n",
            "6\n",
            "7\n",
            "8\n",
            "9\n",
            "10\n"
          ]
        }
      ]
    },
    {
      "cell_type": "code",
      "source": [
        "for x in range(1,11):\n",
        "  print(x) #prints everything\n",
        "  if (x==5):\n",
        "    continue  \n",
        "\n"
      ],
      "metadata": {
        "colab": {
          "base_uri": "https://localhost:8080/"
        },
        "id": "w9H1TQ1ShUrw",
        "outputId": "0b2762c8-e145-42a8-ce6c-8dad747b0d67"
      },
      "execution_count": null,
      "outputs": [
        {
          "output_type": "stream",
          "name": "stdout",
          "text": [
            "1\n",
            "2\n",
            "3\n",
            "4\n",
            "5\n",
            "6\n",
            "7\n",
            "8\n",
            "9\n",
            "10\n"
          ]
        }
      ]
    },
    {
      "cell_type": "code",
      "source": [
        "for x in range(1,11):\n",
        "\n",
        "  if (x==5):\n",
        "    break  \n",
        "  print(x) #prints everything"
      ],
      "metadata": {
        "colab": {
          "base_uri": "https://localhost:8080/"
        },
        "id": "ZAWTGpnTh87g",
        "outputId": "b05fa24b-4f8e-4106-d386-0b48056edec8"
      },
      "execution_count": null,
      "outputs": [
        {
          "output_type": "stream",
          "name": "stdout",
          "text": [
            "1\n",
            "2\n",
            "3\n",
            "4\n"
          ]
        }
      ]
    },
    {
      "cell_type": "code",
      "source": [
        "#FUNCTION\n",
        "\n",
        "#def_ func_name(arg1,arg2,arg3...):\n",
        "# statements\n",
        "# return[expression]\n",
        "\n",
        "def fibo(m):\n",
        "  a=0\n",
        "  b=1\n",
        "  for x in range(m): #incrementing the for loop with N number of times\n",
        "    a=b\n",
        "    b=a+b\n",
        "    print(a,'\\n') # with new line character, it is like pressing enter\n",
        "    return b # return the final value\n",
        "\n",
        "num=int(input(\"enter the value of n:\"))\n",
        "print(fibo(num))\n"
      ],
      "metadata": {
        "colab": {
          "base_uri": "https://localhost:8080/"
        },
        "id": "2IM1Yk-3mtCz",
        "outputId": "9d71bcc7-b0fb-4d46-82d9-eee555790542"
      },
      "execution_count": null,
      "outputs": [
        {
          "output_type": "stream",
          "name": "stdout",
          "text": [
            "enter the value of n:50\n",
            "1 \n",
            "\n",
            "2\n"
          ]
        }
      ]
    },
    {
      "cell_type": "code",
      "source": [
        "name=input(\"Enter your name=\")\n",
        "age=int(input('Enter your age='))\n",
        "\n",
        "print('Welcome!!')\n",
        "print(name, '\\n')\n",
        "\n",
        "print('Your age is')\n",
        "print(age,'\\n')\n",
        "\n",
        "print(\"After 5 years, your age will be:\", (int(age)+5))"
      ],
      "metadata": {
        "id": "PJa1KUBMrnmT"
      },
      "execution_count": null,
      "outputs": []
    },
    {
      "cell_type": "code",
      "source": [
        "#FILE HANDLING AND I/O METHODS\n",
        "# Always make sure to close the file after due to the lock mechanism of it.\n",
        "#it means if you forgot to close it, it becomes hard for the application to open that file\n",
        "\n",
        "# If you are not going to write the file then open it in READ ONLY MODE, not in WRITE MODE\n",
        "\n",
        "\n"
      ],
      "metadata": {
        "id": "ylmItuaQs6So"
      },
      "execution_count": null,
      "outputs": []
    },
    {
      "cell_type": "code",
      "source": [
        "a = [5,10,15,20,25,30,35,40]\n",
        "\n",
        "print(\"a[2] = \", a[2])\n",
        "\n",
        "print(\"a[0:3] = \", a[0:3])\n",
        "\n",
        "x='''This is a \n",
        "multiline'''\n",
        "print(\"a= \", a[5:])\n",
        "print(x)"
      ],
      "metadata": {
        "colab": {
          "base_uri": "https://localhost:8080/"
        },
        "id": "6XLy_OdjwKbS",
        "outputId": "e223be04-a304-4102-9300-18f52a0d5c50"
      },
      "execution_count": null,
      "outputs": [
        {
          "output_type": "stream",
          "name": "stdout",
          "text": [
            "a[2] =  15\n",
            "a[0:3] =  [5, 10, 15]\n",
            "a=  [30, 35, 40]\n",
            "This is a \n",
            "multiline\n"
          ]
        }
      ]
    },
    {
      "cell_type": "code",
      "source": [
        "x = 5\n",
        "y = 10\n",
        "print('The value of x is {} and y is {}'.format(x,y))\n"
      ],
      "metadata": {
        "id": "9M4ZirOzwKSC",
        "colab": {
          "base_uri": "https://localhost:8080/"
        },
        "outputId": "3199a94c-f772-413f-9332-0f95a639c62d"
      },
      "execution_count": null,
      "outputs": [
        {
          "output_type": "stream",
          "name": "stdout",
          "text": [
            "The value of x is 5 and y is 10\n"
          ]
        }
      ]
    },
    {
      "cell_type": "code",
      "source": [
        "print('Hello {name}, {greeting}'.format(greeting = 'Goodmorning', name = 'John'))"
      ],
      "metadata": {
        "colab": {
          "base_uri": "https://localhost:8080/"
        },
        "id": "5G0DtJtehUKM",
        "outputId": "c6e191c9-04a7-4576-fd2f-e356ba2ae6ce"
      },
      "execution_count": null,
      "outputs": [
        {
          "output_type": "stream",
          "name": "stdout",
          "text": [
            "Hello John, Goodmorning\n"
          ]
        }
      ]
    },
    {
      "cell_type": "code",
      "source": [
        "greeting = 'Goodmorning'\n",
        "name = 'John'\n",
        "print('Hello {1}, {0}'.format(greeting,name))"
      ],
      "metadata": {
        "colab": {
          "base_uri": "https://localhost:8080/"
        },
        "id": "lnD1UInPqZA9",
        "outputId": "9e173d01-7b53-4f5e-d6f2-beededb40d5f"
      },
      "execution_count": null,
      "outputs": [
        {
          "output_type": "stream",
          "name": "stdout",
          "text": [
            "Hello John, Goodmorning\n"
          ]
        }
      ]
    },
    {
      "cell_type": "code",
      "source": [
        "x=input(\"What is your name=\")\n",
        "y=input(\"Type your address=\")\n",
        "\n",
        "print(\"Hello {}, are you from {}\".format(x,y) )\n"
      ],
      "metadata": {
        "id": "qnXaJbOVq0BZ"
      },
      "execution_count": null,
      "outputs": []
    },
    {
      "cell_type": "code",
      "source": [
        "num = input('Enter a number: ')"
      ],
      "metadata": {
        "colab": {
          "base_uri": "https://localhost:8080/"
        },
        "id": "ifUXfirysqPF",
        "outputId": "d8826f07-f6ab-4eec-920a-874e49f5814b"
      },
      "execution_count": null,
      "outputs": [
        {
          "name": "stdout",
          "output_type": "stream",
          "text": [
            "Enter a number: 10\n"
          ]
        }
      ]
    },
    {
      "cell_type": "code",
      "source": [
        "import math\n",
        "print(math.pi)"
      ],
      "metadata": {
        "colab": {
          "base_uri": "https://localhost:8080/"
        },
        "id": "BQd0P_4auOgf",
        "outputId": "9d49efde-0865-43b8-c8e0-9546d3d03a36"
      },
      "execution_count": null,
      "outputs": [
        {
          "output_type": "stream",
          "name": "stdout",
          "text": [
            "3.141592653589793\n"
          ]
        }
      ]
    }
  ]
}